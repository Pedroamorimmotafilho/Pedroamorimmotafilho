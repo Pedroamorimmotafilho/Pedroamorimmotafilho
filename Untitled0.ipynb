{
  "nbformat": 4,
  "nbformat_minor": 0,
  "metadata": {
    "colab": {
      "provenance": [],
      "authorship_tag": "ABX9TyOeFvlYaF9OeK3EYFpwJ81m",
      "include_colab_link": true
    },
    "kernelspec": {
      "name": "python3",
      "display_name": "Python 3"
    },
    "language_info": {
      "name": "python"
    }
  },
  "cells": [
    {
      "cell_type": "markdown",
      "metadata": {
        "id": "view-in-github",
        "colab_type": "text"
      },
      "source": [
        "<a href=\"https://colab.research.google.com/github/Pedroamorimmotafilho/Pedroamorimmotafilho/blob/main/Untitled0.ipynb\" target=\"_parent\"><img src=\"https://colab.research.google.com/assets/colab-badge.svg\" alt=\"Open In Colab\"/></a>"
      ]
    },
    {
      "cell_type": "code",
      "execution_count": 6,
      "metadata": {
        "id": "aPc09kP7S6Dw",
        "colab": {
          "base_uri": "https://localhost:8080/"
        },
        "outputId": "81046248-103c-4810-ef1f-7477dacfc838"
      },
      "outputs": [
        {
          "output_type": "stream",
          "name": "stdout",
          "text": [
            "selecione a operacao:\n",
            "1.  soma\n",
            "2. subtração\n",
            "3. multiplicação\n",
            "4. divisão\n",
            "digite o numero da operação (1,2,3,4): 1\n",
            "digite o primeiro numero7\n",
            "digite o segundo numero7\n",
            "7.0 + 7.0 = 14.0\n"
          ]
        }
      ],
      "source": [
        "def calculadora():\n",
        "    print (\"selecione a operacao:\")\n",
        "    print (\"1.  soma\")\n",
        "    print (\"2. subtração\")\n",
        "    print (\"3. multiplicação\")\n",
        "    print (\"4. divisão\")\n",
        "\n",
        "    escolha = input (\"digite o numero da operação (1,2,3,4): \")\n",
        "\n",
        "    numero1 = float(input (\"digite o primeiro numero\"))\n",
        "    numero2 = float(input (\"digite o segundo numero\"))\n",
        "\n",
        "    if escolha == '1':\n",
        "        print(f\"{numero1} + {numero2} = {numero1 + numero2}\")\n",
        "    elif escolha == '2':\n",
        "        print(f\"{numero1} - {numero2} = {numero1 - numero2}\")\n",
        "    elif escolha == '3':\n",
        "        print(f\"{numero1} * {numero2} = {numero1 * numero2}\")\n",
        "    elif escolha == '4':\n",
        "        if numero2 != 0:\n",
        "            print (f\"{numero1} / {numero2} = {numero1 / numero2}\")\n",
        "        else:\n",
        "            print (f\"Erro: divisao por zero nao e permitida\")\n",
        "    else:\n",
        "        print(\"Operacao invalida\")\n",
        "\n",
        "calculadora()"
      ]
    }
  ]
}